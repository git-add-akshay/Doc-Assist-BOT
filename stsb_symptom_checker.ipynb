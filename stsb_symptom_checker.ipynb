{
  "nbformat": 4,
  "nbformat_minor": 0,
  "metadata": {
    "colab": {
      "name": "stsb_symptom_checker.ipynb",
      "provenance": []
    },
    "kernelspec": {
      "name": "python3",
      "display_name": "Python 3"
    },
    "accelerator": "GPU"
  },
  "cells": [
    {
      "cell_type": "code",
      "metadata": {
        "id": "jzOIUb6Dgru6",
        "outputId": "ffa82277-20f5-40be-e9fc-480d47ba6316",
        "colab": {
          "base_uri": "https://localhost:8080/",
          "height": 35
        }
      },
      "source": [
        "from google.colab import files\n",
        "from IPython.display import Image\n",
        "from google.colab import drive\n",
        "drive.mount('/gdrive')"
      ],
      "execution_count": 1,
      "outputs": [
        {
          "output_type": "stream",
          "text": [
            "Mounted at /gdrive\n"
          ],
          "name": "stdout"
        }
      ]
    },
    {
      "cell_type": "code",
      "metadata": {
        "id": "WcyAzIJlhjq2",
        "outputId": "f6d28d13-5e63-410f-9396-3fe881744644",
        "colab": {
          "base_uri": "https://localhost:8080/",
          "height": 35
        }
      },
      "source": [
        "cd '/gdrive/My Drive/Colab Notebooks/team_UBUNTU'"
      ],
      "execution_count": 2,
      "outputs": [
        {
          "output_type": "stream",
          "text": [
            "/gdrive/My Drive/Colab Notebooks/team_UBUNTU\n"
          ],
          "name": "stdout"
        }
      ]
    },
    {
      "cell_type": "code",
      "metadata": {
        "id": "EmB26SdRh1Ae",
        "outputId": "5604b770-52cd-43f8-a666-5f102c031a0e",
        "colab": {
          "base_uri": "https://localhost:8080/",
          "height": 837
        }
      },
      "source": [
        "pip install -U sentence-transformers"
      ],
      "execution_count": 3,
      "outputs": [
        {
          "output_type": "stream",
          "text": [
            "Collecting sentence-transformers\n",
            "\u001b[?25l  Downloading https://files.pythonhosted.org/packages/f4/fd/0190080aa0af78d7cd5874e4e8e85f0bed9967dd387cf05d760832b95da9/sentence-transformers-0.3.8.tar.gz (66kB)\n",
            "\u001b[K     |████████████████████████████████| 71kB 2.3MB/s \n",
            "\u001b[?25hCollecting transformers<3.4.0,>=3.1.0\n",
            "\u001b[?25l  Downloading https://files.pythonhosted.org/packages/19/22/aff234f4a841f8999e68a7a94bdd4b60b4cebcfeca5d67d61cd08c9179de/transformers-3.3.1-py3-none-any.whl (1.1MB)\n",
            "\u001b[K     |████████████████████████████████| 1.1MB 9.6MB/s \n",
            "\u001b[?25hRequirement already satisfied, skipping upgrade: tqdm in /usr/local/lib/python3.6/dist-packages (from sentence-transformers) (4.41.1)\n",
            "Requirement already satisfied, skipping upgrade: torch>=1.2.0 in /usr/local/lib/python3.6/dist-packages (from sentence-transformers) (1.6.0+cu101)\n",
            "Requirement already satisfied, skipping upgrade: numpy in /usr/local/lib/python3.6/dist-packages (from sentence-transformers) (1.18.5)\n",
            "Requirement already satisfied, skipping upgrade: scikit-learn in /usr/local/lib/python3.6/dist-packages (from sentence-transformers) (0.22.2.post1)\n",
            "Requirement already satisfied, skipping upgrade: scipy in /usr/local/lib/python3.6/dist-packages (from sentence-transformers) (1.4.1)\n",
            "Requirement already satisfied, skipping upgrade: nltk in /usr/local/lib/python3.6/dist-packages (from sentence-transformers) (3.2.5)\n",
            "Requirement already satisfied, skipping upgrade: dataclasses; python_version < \"3.7\" in /usr/local/lib/python3.6/dist-packages (from transformers<3.4.0,>=3.1.0->sentence-transformers) (0.7)\n",
            "Requirement already satisfied, skipping upgrade: filelock in /usr/local/lib/python3.6/dist-packages (from transformers<3.4.0,>=3.1.0->sentence-transformers) (3.0.12)\n",
            "Collecting sentencepiece!=0.1.92\n",
            "\u001b[?25l  Downloading https://files.pythonhosted.org/packages/e5/2d/6d4ca4bef9a67070fa1cac508606328329152b1df10bdf31fb6e4e727894/sentencepiece-0.1.94-cp36-cp36m-manylinux2014_x86_64.whl (1.1MB)\n",
            "\u001b[K     |████████████████████████████████| 1.1MB 24.4MB/s \n",
            "\u001b[?25hCollecting tokenizers==0.8.1.rc2\n",
            "\u001b[?25l  Downloading https://files.pythonhosted.org/packages/80/83/8b9fccb9e48eeb575ee19179e2bdde0ee9a1904f97de5f02d19016b8804f/tokenizers-0.8.1rc2-cp36-cp36m-manylinux1_x86_64.whl (3.0MB)\n",
            "\u001b[K     |████████████████████████████████| 3.0MB 31.9MB/s \n",
            "\u001b[?25hRequirement already satisfied, skipping upgrade: packaging in /usr/local/lib/python3.6/dist-packages (from transformers<3.4.0,>=3.1.0->sentence-transformers) (20.4)\n",
            "Requirement already satisfied, skipping upgrade: regex!=2019.12.17 in /usr/local/lib/python3.6/dist-packages (from transformers<3.4.0,>=3.1.0->sentence-transformers) (2019.12.20)\n",
            "Requirement already satisfied, skipping upgrade: requests in /usr/local/lib/python3.6/dist-packages (from transformers<3.4.0,>=3.1.0->sentence-transformers) (2.23.0)\n",
            "Collecting sacremoses\n",
            "\u001b[?25l  Downloading https://files.pythonhosted.org/packages/7d/34/09d19aff26edcc8eb2a01bed8e98f13a1537005d31e95233fd48216eed10/sacremoses-0.0.43.tar.gz (883kB)\n",
            "\u001b[K     |████████████████████████████████| 890kB 41.8MB/s \n",
            "\u001b[?25hRequirement already satisfied, skipping upgrade: future in /usr/local/lib/python3.6/dist-packages (from torch>=1.2.0->sentence-transformers) (0.16.0)\n",
            "Requirement already satisfied, skipping upgrade: joblib>=0.11 in /usr/local/lib/python3.6/dist-packages (from scikit-learn->sentence-transformers) (0.16.0)\n",
            "Requirement already satisfied, skipping upgrade: six in /usr/local/lib/python3.6/dist-packages (from nltk->sentence-transformers) (1.15.0)\n",
            "Requirement already satisfied, skipping upgrade: pyparsing>=2.0.2 in /usr/local/lib/python3.6/dist-packages (from packaging->transformers<3.4.0,>=3.1.0->sentence-transformers) (2.4.7)\n",
            "Requirement already satisfied, skipping upgrade: idna<3,>=2.5 in /usr/local/lib/python3.6/dist-packages (from requests->transformers<3.4.0,>=3.1.0->sentence-transformers) (2.10)\n",
            "Requirement already satisfied, skipping upgrade: chardet<4,>=3.0.2 in /usr/local/lib/python3.6/dist-packages (from requests->transformers<3.4.0,>=3.1.0->sentence-transformers) (3.0.4)\n",
            "Requirement already satisfied, skipping upgrade: urllib3!=1.25.0,!=1.25.1,<1.26,>=1.21.1 in /usr/local/lib/python3.6/dist-packages (from requests->transformers<3.4.0,>=3.1.0->sentence-transformers) (1.24.3)\n",
            "Requirement already satisfied, skipping upgrade: certifi>=2017.4.17 in /usr/local/lib/python3.6/dist-packages (from requests->transformers<3.4.0,>=3.1.0->sentence-transformers) (2020.6.20)\n",
            "Requirement already satisfied, skipping upgrade: click in /usr/local/lib/python3.6/dist-packages (from sacremoses->transformers<3.4.0,>=3.1.0->sentence-transformers) (7.1.2)\n",
            "Building wheels for collected packages: sentence-transformers, sacremoses\n",
            "  Building wheel for sentence-transformers (setup.py) ... \u001b[?25l\u001b[?25hdone\n",
            "  Created wheel for sentence-transformers: filename=sentence_transformers-0.3.8-cp36-none-any.whl size=101996 sha256=20c4af89390ed063641bf374216ad606594932db70f6aa2fd06104fcb93a48a0\n",
            "  Stored in directory: /root/.cache/pip/wheels/27/ec/b3/d12cc8e4daf77846db6543033d3a5642f204c0320b15945647\n",
            "  Building wheel for sacremoses (setup.py) ... \u001b[?25l\u001b[?25hdone\n",
            "  Created wheel for sacremoses: filename=sacremoses-0.0.43-cp36-none-any.whl size=893257 sha256=41f88395fd41b8791f37c018d07224af8af1aa03417d2bc7c28520dc4a2d4727\n",
            "  Stored in directory: /root/.cache/pip/wheels/29/3c/fd/7ce5c3f0666dab31a50123635e6fb5e19ceb42ce38d4e58f45\n",
            "Successfully built sentence-transformers sacremoses\n",
            "Installing collected packages: sentencepiece, tokenizers, sacremoses, transformers, sentence-transformers\n",
            "Successfully installed sacremoses-0.0.43 sentence-transformers-0.3.8 sentencepiece-0.1.94 tokenizers-0.8.1rc2 transformers-3.3.1\n"
          ],
          "name": "stdout"
        }
      ]
    },
    {
      "cell_type": "code",
      "metadata": {
        "id": "46MHfcrujHza",
        "outputId": "7f52e77b-e57f-4ce1-a8a3-c22698432970",
        "colab": {
          "base_uri": "https://localhost:8080/",
          "height": 141
        }
      },
      "source": [
        "from sentence_transformers import SentenceTransformer\n",
        "import torch\n",
        "import torch.nn as nn\n",
        "import torch.nn.functional as F\n",
        "\n",
        "import numpy as np\n",
        "import pandas as pd\n",
        "import seaborn as sns\n",
        "from sklearn.metrics import confusion_matrix\n",
        "%matplotlib inline\n",
        "import nltk\n",
        "import string\n",
        "import pandas as pd\n",
        "import numpy as np\n",
        "import re\n",
        "from textblob import TextBlob\n",
        "import string\n",
        "import torch\n",
        "import pickle\n",
        "from bs4 import BeautifulSoup\n",
        "from gensim.summarization.summarizer import summarize\n",
        "nltk.download('averaged_perceptron_tagger')\n",
        "from sentence_transformers import SentenceTransformer\n",
        "nltk.download('punkt')\n",
        "nltk.download('wordnet')\n",
        "import torch\n",
        "import json "
      ],
      "execution_count": 4,
      "outputs": [
        {
          "output_type": "stream",
          "text": [
            "[nltk_data] Downloading package averaged_perceptron_tagger to\n",
            "[nltk_data]     /root/nltk_data...\n",
            "[nltk_data]   Unzipping taggers/averaged_perceptron_tagger.zip.\n",
            "[nltk_data] Downloading package punkt to /root/nltk_data...\n",
            "[nltk_data]   Unzipping tokenizers/punkt.zip.\n",
            "[nltk_data] Downloading package wordnet to /root/nltk_data...\n",
            "[nltk_data]   Unzipping corpora/wordnet.zip.\n"
          ],
          "name": "stdout"
        }
      ]
    },
    {
      "cell_type": "markdown",
      "metadata": {
        "id": "zaUfKZwPjXgO"
      },
      "source": [
        "# ACCESING THE DATA"
      ]
    },
    {
      "cell_type": "code",
      "metadata": {
        "id": "uTlF4JhLj-KN"
      },
      "source": [
        "import chardet\n",
        "with open('disease_components.csv', 'rb') as f:\n",
        "    result = chardet.detect(f.read())"
      ],
      "execution_count": 13,
      "outputs": []
    },
    {
      "cell_type": "code",
      "metadata": {
        "id": "PB3ulImakRVD"
      },
      "source": [
        "result['encoding']"
      ],
      "execution_count": null,
      "outputs": []
    },
    {
      "cell_type": "code",
      "metadata": {
        "id": "eOqq2i1ajaIv"
      },
      "source": [
        "df = pd.read_csv('disease_components.csv',encoding=result['encoding'])\n",
        "df.dropna(subset = [\"Symptoms\"], inplace=True)\n",
        "df.rename(columns={'*':'disease'},inplace=True)\n",
        "df = df.fillna(\"\")\n",
        "df = df.reset_index()\n",
        "df.drop('index',axis=1,inplace=True)"
      ],
      "execution_count": 14,
      "outputs": []
    },
    {
      "cell_type": "code",
      "metadata": {
        "id": "SBSnrSTmqv1l"
      },
      "source": [
        "dis_symp = []\n",
        "for i in range(len(df)):\n",
        "  dis_symp.append(df['Symptoms'][i])"
      ],
      "execution_count": null,
      "outputs": []
    },
    {
      "cell_type": "code",
      "metadata": {
        "id": "UnkEWTpFjB5c"
      },
      "source": [
        "def pre_processing(question):\n",
        "    def lemmatize_with_pos_tag(sentence):\n",
        "        tokenized_sentence = TextBlob(sentence)\n",
        "        tag_dict = {\"J\": 'a', \"N\": 'n', \"V\": 'v', \"R\": 'r'}\n",
        "        words_and_tags = [(word, tag_dict.get(pos[0], 'n')) for word, pos in tokenized_sentence.tags]\n",
        "        lemmatized_list = [wd.lemmatize(tag) for wd, tag in words_and_tags]\n",
        "        return \" \".join(lemmatized_list)\n",
        "    question = BeautifulSoup(question, 'html.parser').get_text()\n",
        "    question = question.lower()\n",
        "    question = question.replace('[','')\n",
        "    question = question.replace(']','')\n",
        "    question.translate(str.maketrans(\" \", \" \", string.punctuation))\n",
        "    question = lemmatize_with_pos_tag(question)\n",
        "    return question"
      ],
      "execution_count": 10,
      "outputs": []
    },
    {
      "cell_type": "code",
      "metadata": {
        "id": "f09m2zs-sPDj"
      },
      "source": [
        "symp = []\n",
        "for i in range(len(dis_symp)):\n",
        "  symp.append(pre_processing(dis_symp[i]))"
      ],
      "execution_count": null,
      "outputs": []
    },
    {
      "cell_type": "code",
      "metadata": {
        "id": "VptD28dquyrL"
      },
      "source": [
        "symp[145]"
      ],
      "execution_count": null,
      "outputs": []
    },
    {
      "cell_type": "code",
      "metadata": {
        "id": "U23eEFBbtbx-"
      },
      "source": [
        "with open('symp.pkl', 'wb') as f:\n",
        "  pickle.dump(symp, f)"
      ],
      "execution_count": null,
      "outputs": []
    },
    {
      "cell_type": "code",
      "metadata": {
        "id": "N6rOuibXuuaW"
      },
      "source": [
        "with open('symp.pkl', 'rb') as f:\n",
        "  symps = pickle.load(f)"
      ],
      "execution_count": 6,
      "outputs": []
    },
    {
      "cell_type": "code",
      "metadata": {
        "id": "K7dWT2I_vK8a"
      },
      "source": [
        "symps"
      ],
      "execution_count": null,
      "outputs": []
    },
    {
      "cell_type": "code",
      "metadata": {
        "id": "47g-hqCKsNxg"
      },
      "source": [
        "model = SentenceTransformer('model')"
      ],
      "execution_count": 7,
      "outputs": []
    },
    {
      "cell_type": "code",
      "metadata": {
        "id": "Cyt5d2BfvNs2"
      },
      "source": [
        "sentence_embeddings = model.encode(symps)"
      ],
      "execution_count": 8,
      "outputs": []
    },
    {
      "cell_type": "code",
      "metadata": {
        "id": "lcWOyteDvjpG",
        "outputId": "af500af8-c70d-4dca-bd5b-4701f8dd9e68",
        "colab": {
          "base_uri": "https://localhost:8080/",
          "height": 35
        }
      },
      "source": [
        "question = 'I am suffering from sleeplessness ,I can sleep at day but not during nighttime'\n",
        "queries = pre_processing(question)\n",
        "print(queries)\n",
        "query_embeddings = model.encode([queries])"
      ],
      "execution_count": 16,
      "outputs": [
        {
          "output_type": "stream",
          "text": [
            "i be suffer from sleeplessness i can sleep at day but not during nighttime\n"
          ],
          "name": "stdout"
        }
      ]
    },
    {
      "cell_type": "code",
      "metadata": {
        "id": "blxa-Ps-vVZA",
        "outputId": "639b1e37-631d-4ec8-d1a7-04174b4cff62",
        "colab": {
          "base_uri": "https://localhost:8080/",
          "height": 337
        }
      },
      "source": [
        "import scipy\n",
        "number_top_matches = 10\n",
        "for query, query_embedding in zip(queries, query_embeddings):\n",
        "    distances = scipy.spatial.distance.cdist([query_embedding], sentence_embeddings, \"cosine\")[0]\n",
        "    results = zip(range(len(distances)), distances)\n",
        "    results = sorted(results, key=lambda x: x[1])\n",
        "\n",
        "    print(\"\\n\\n======================\\n\\n\")\n",
        "    print(\"Query:\", question)\n",
        "    print(\"\\nTop 10 most matching disease u might have \")\n",
        "\n",
        "    for idx, distance in results[0:number_top_matches]:\n",
        "        print(df['disease'][idx],idx, \"(Cosine Score: %.4f)\" % (1-distance))"
      ],
      "execution_count": 17,
      "outputs": [
        {
          "output_type": "stream",
          "text": [
            "\n",
            "\n",
            "======================\n",
            "\n",
            "\n",
            "Query: I am suffering from sleeplessness ,I can sleep at day but not during nighttime\n",
            "\n",
            "Top 10 most matching disease u might have \n",
            "Sleep disorders 827 (Cosine Score: 0.6841)\n",
            "Somnambulism (See: Somnambulism, also known asSleepwalking) 845 (Cosine Score: 0.6343)\n",
            "Sleepiness, daytime (See: Sleepiness, daytime, also known asNarcolepsy) 829 (Cosine Score: 0.6231)\n",
            "Sleep terrors (night terrors) 828 (Cosine Score: 0.6121)\n",
            "Sleeplessness (See: Sleeplessness, also known asInsomnia) 830 (Cosine Score: 0.5952)\n",
            "Sleep apnea 823 (Cosine Score: 0.5797)\n",
            "Snoring 838 (Cosine Score: 0.5749)\n",
            "Sleep apnea, central 825 (Cosine Score: 0.5730)\n",
            "Nightmare disorder 538 (Cosine Score: 0.5692)\n",
            "Jet lag disorder 390 (Cosine Score: 0.5070)\n"
          ],
          "name": "stdout"
        }
      ]
    },
    {
      "cell_type": "code",
      "metadata": {
        "id": "icysSrOEv5pt",
        "outputId": "ea812fae-6c5f-46f6-b664-bfc576e9e58c",
        "colab": {
          "base_uri": "https://localhost:8080/",
          "height": 107
        }
      },
      "source": [
        "df['Symptoms'][1028]"
      ],
      "execution_count": 51,
      "outputs": [
        {
          "output_type": "execute_result",
          "data": {
            "application/vnd.google.colaboratory.intrinsic+json": {
              "type": "string"
            },
            "text/plain": [
              "'[\\'Normal urine color varies, depending on how much water you drink. Fluids dilute the yellow pigments in urine, so the more you drink, the clearer your urine looks. When you drink less, the color becomes more concentrated. Severe dehydration can produce urine the color of amber.\\', \"But urine can turn colors far beyond what\\'s normal, including red, blue, green, dark brown and cloudy white.\", \\'Seek medical attention if you have:\\', \\'Visible blood in your urine. Bloody urine is common in urinary tract infections and kidney stones. These problems usually cause pain. Painless bleeding might signal a more-serious problem, such as cancer.\\', \\'Dark or orange urine. If your urine is dark or orange — particularly if you also have pale stools and yellow skin and eyes — your liver might be malfunctioning.\\']'"
            ]
          },
          "metadata": {
            "tags": []
          },
          "execution_count": 51
        }
      ]
    },
    {
      "cell_type": "code",
      "metadata": {
        "id": "uHrS77t51jga",
        "outputId": "c25584fd-e2f4-428f-92ea-6ee8d2147c15",
        "colab": {
          "base_uri": "https://localhost:8080/",
          "height": 838
        }
      },
      "source": [
        "df"
      ],
      "execution_count": 18,
      "outputs": [
        {
          "output_type": "execute_result",
          "data": {
            "text/html": [
              "<div>\n",
              "<style scoped>\n",
              "    .dataframe tbody tr th:only-of-type {\n",
              "        vertical-align: middle;\n",
              "    }\n",
              "\n",
              "    .dataframe tbody tr th {\n",
              "        vertical-align: top;\n",
              "    }\n",
              "\n",
              "    .dataframe thead th {\n",
              "        text-align: right;\n",
              "    }\n",
              "</style>\n",
              "<table border=\"1\" class=\"dataframe\">\n",
              "  <thead>\n",
              "    <tr style=\"text-align: right;\">\n",
              "      <th></th>\n",
              "      <th>disease</th>\n",
              "      <th>link</th>\n",
              "      <th>Symptoms</th>\n",
              "      <th>Overview</th>\n",
              "      <th>Causes</th>\n",
              "      <th>Risk factors</th>\n",
              "      <th>diagnosis</th>\n",
              "      <th>treatment</th>\n",
              "      <th>remedies</th>\n",
              "      <th>medication</th>\n",
              "    </tr>\n",
              "  </thead>\n",
              "  <tbody>\n",
              "    <tr>\n",
              "      <th>0</th>\n",
              "      <td>Acanthosis nigricans</td>\n",
              "      <td>https://www.mayoclinic.org/diseases-conditions...</td>\n",
              "      <td>[\"Skin changes are the only signs of acanthosi...</td>\n",
              "      <td>['', 'Acanthosis nigricans is a skin condition...</td>\n",
              "      <td>['Acanthosis nigricans has been associated wit...</td>\n",
              "      <td>['Acanthosis nigricans risk factors include:',...</td>\n",
              "      <td>['Acanthosis nigricans is typically detected d...</td>\n",
              "      <td>['In many situations, treating the underlying ...</td>\n",
              "      <td></td>\n",
              "      <td></td>\n",
              "    </tr>\n",
              "    <tr>\n",
              "      <th>1</th>\n",
              "      <td>Achalasia</td>\n",
              "      <td>https://www.mayoclinic.org/diseases-conditions...</td>\n",
              "      <td>['Achalasia symptoms generally appear graduall...</td>\n",
              "      <td>['Achalasia is a rare disorder that makes it d...</td>\n",
              "      <td>['The exact cause of achalasia is poorly under...</td>\n",
              "      <td></td>\n",
              "      <td>['Achalasia can be overlooked or misdiagnosed ...</td>\n",
              "      <td>['Achalasia treatment focuses on relaxing or s...</td>\n",
              "      <td></td>\n",
              "      <td></td>\n",
              "    </tr>\n",
              "    <tr>\n",
              "      <th>2</th>\n",
              "      <td>Achilles tendon rupture</td>\n",
              "      <td>https://www.mayoclinic.org/diseases-conditions...</td>\n",
              "      <td>[\"Although it's possible to have no signs or s...</td>\n",
              "      <td>['', 'The Achilles tendon is a strong fibrous ...</td>\n",
              "      <td>['Your Achilles tendon helps you point your fo...</td>\n",
              "      <td>['Factors that may increase your risk of Achil...</td>\n",
              "      <td>['During the physical exam, your doctor will i...</td>\n",
              "      <td>['Treatment for a ruptured Achilles tendon oft...</td>\n",
              "      <td></td>\n",
              "      <td></td>\n",
              "    </tr>\n",
              "    <tr>\n",
              "      <th>3</th>\n",
              "      <td>Acute coronary syndrome</td>\n",
              "      <td>https://www.mayoclinic.org/diseases-conditions...</td>\n",
              "      <td>['The signs and symptoms of acute coronary syn...</td>\n",
              "      <td>['Acute coronary syndrome is a term used to de...</td>\n",
              "      <td>['Acute coronary syndrome usually results from...</td>\n",
              "      <td>['The risk factors for acute coronary syndrome...</td>\n",
              "      <td>['If you have signs or symptoms associated wit...</td>\n",
              "      <td>['The immediate goals of treatment for acute c...</td>\n",
              "      <td>['Heart healthy lifestyle changes are an impor...</td>\n",
              "      <td>['Depending on your diagnosis, medications for...</td>\n",
              "    </tr>\n",
              "    <tr>\n",
              "      <th>4</th>\n",
              "      <td>Adenomyosis</td>\n",
              "      <td>https://www.mayoclinic.org/diseases-conditions...</td>\n",
              "      <td>['Sometimes, adenomyosis causes no signs or sy...</td>\n",
              "      <td>['', 'With adenomyosis, the same tissue that l...</td>\n",
              "      <td>[\"The cause of adenomyosis isn't known. There ...</td>\n",
              "      <td>['Risk factors for adenomyosis include:', 'Mos...</td>\n",
              "      <td>['Some other uterine conditions can cause sign...</td>\n",
              "      <td>['Adenomyosis often goes away after menopause,...</td>\n",
              "      <td>[' To ease pelvic pain and cramping related to...</td>\n",
              "      <td></td>\n",
              "    </tr>\n",
              "    <tr>\n",
              "      <th>...</th>\n",
              "      <td>...</td>\n",
              "      <td>...</td>\n",
              "      <td>...</td>\n",
              "      <td>...</td>\n",
              "      <td>...</td>\n",
              "      <td>...</td>\n",
              "      <td>...</td>\n",
              "      <td>...</td>\n",
              "      <td>...</td>\n",
              "      <td>...</td>\n",
              "    </tr>\n",
              "    <tr>\n",
              "      <th>1101</th>\n",
              "      <td>Yips</td>\n",
              "      <td>https://www.mayoclinic.org/diseases-conditions...</td>\n",
              "      <td>['The most common symptom associated with the ...</td>\n",
              "      <td>['The yips are involuntary wrist spasms that o...</td>\n",
              "      <td>[\"In some people, the yips are a type of focal...</td>\n",
              "      <td>['The yips tend to be associated with:', 'Olde...</td>\n",
              "      <td></td>\n",
              "      <td>['Because the yips may be related to overuse o...</td>\n",
              "      <td></td>\n",
              "      <td></td>\n",
              "    </tr>\n",
              "    <tr>\n",
              "      <th>1102</th>\n",
              "      <td>Zika virus</td>\n",
              "      <td>https://www.mayoclinic.org/diseases-conditions...</td>\n",
              "      <td>['As many as 4 out of 5 people infected with t...</td>\n",
              "      <td>['The mosquito that carries the Zika virus is ...</td>\n",
              "      <td>['The Zika virus is transmitted primarily thro...</td>\n",
              "      <td>['Factors that put you at greater risk of deve...</td>\n",
              "      <td>['The mosquito that carries the Zika virus is ...</td>\n",
              "      <td>['No specific antiviral treatment for the Zika...</td>\n",
              "      <td></td>\n",
              "      <td></td>\n",
              "    </tr>\n",
              "    <tr>\n",
              "      <th>1103</th>\n",
              "      <td>Zollinger-Ellison syndrome</td>\n",
              "      <td>https://www.mayoclinic.org/diseases-conditions...</td>\n",
              "      <td>['Signs and symptoms of Zollinger-Ellison synd...</td>\n",
              "      <td>['Zollinger-Ellison syndrome is a rare conditi...</td>\n",
              "      <td>['', 'The pancreas is a large organ that lies ...</td>\n",
              "      <td>[\"If you have a blood relative, such as a sibl...</td>\n",
              "      <td>['Your doctor will base a diagnosis on the fol...</td>\n",
              "      <td>['Treatment of Zollinger-Ellison syndrome addr...</td>\n",
              "      <td></td>\n",
              "      <td></td>\n",
              "    </tr>\n",
              "    <tr>\n",
              "      <th>1104</th>\n",
              "      <td>Zoster (See: Zoster, also known asShingles)</td>\n",
              "      <td>https://www.mayoclinic.org/diseases-conditions...</td>\n",
              "      <td>['', 'Shingles is characterized by pain or a t...</td>\n",
              "      <td>['Shingles is a viral infection that causes a ...</td>\n",
              "      <td>['', 'The shingles rash is associated with an ...</td>\n",
              "      <td>['Anyone who has ever had chickenpox can devel...</td>\n",
              "      <td>['Shingles is usually diagnosed based on the h...</td>\n",
              "      <td>[\"There's no cure for shingles, but prompt tre...</td>\n",
              "      <td>['Taking a cool bath or using cool, wet compre...</td>\n",
              "      <td></td>\n",
              "    </tr>\n",
              "    <tr>\n",
              "      <th>1105</th>\n",
              "      <td>22q11.2 deletion syndrome (See: 22q11.2 deleti...</td>\n",
              "      <td>https://www.mayoclinic.org/diseases-conditions...</td>\n",
              "      <td>['Signs and symptoms of DiGeorge syndrome (22q...</td>\n",
              "      <td>['DiGeorge syndrome, more accurately known by ...</td>\n",
              "      <td>[\"Each person has two copies of chromosome 22,...</td>\n",
              "      <td></td>\n",
              "      <td>['A diagnosis of DiGeorge syndrome (22q11.2 de...</td>\n",
              "      <td>['Although there is no cure for DiGeorge syndr...</td>\n",
              "      <td></td>\n",
              "      <td></td>\n",
              "    </tr>\n",
              "  </tbody>\n",
              "</table>\n",
              "<p>1106 rows × 10 columns</p>\n",
              "</div>"
            ],
            "text/plain": [
              "                                                disease  ...                                         medication\n",
              "0                                  Acanthosis nigricans  ...                                                   \n",
              "1                                             Achalasia  ...                                                   \n",
              "2                               Achilles tendon rupture  ...                                                   \n",
              "3                               Acute coronary syndrome  ...  ['Depending on your diagnosis, medications for...\n",
              "4                                           Adenomyosis  ...                                                   \n",
              "...                                                 ...  ...                                                ...\n",
              "1101                                               Yips  ...                                                   \n",
              "1102                                         Zika virus  ...                                                   \n",
              "1103                         Zollinger-Ellison syndrome  ...                                                   \n",
              "1104        Zoster (See: Zoster, also known asShingles)  ...                                                   \n",
              "1105  22q11.2 deletion syndrome (See: 22q11.2 deleti...  ...                                                   \n",
              "\n",
              "[1106 rows x 10 columns]"
            ]
          },
          "metadata": {
            "tags": []
          },
          "execution_count": 18
        }
      ]
    },
    {
      "cell_type": "code",
      "metadata": {
        "id": "2DIeVMIJvqeL"
      },
      "source": [
        ""
      ],
      "execution_count": null,
      "outputs": []
    }
  ]
}